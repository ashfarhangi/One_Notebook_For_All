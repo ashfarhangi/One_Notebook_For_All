{
  "nbformat": 4,
  "nbformat_minor": 0,
  "metadata": {
    "colab": {
      "name": "5_Working_Sentence_Classification_Pytorch_Transformer.ipynb",
      "provenance": [],
      "collapsed_sections": [],
      "mount_file_id": "1jqX1sWCCuTjnvDZgL51t8TGeCUIB3iNg",
      "authorship_tag": "ABX9TyP+MczaLsmZh74gLoteUESp",
      "include_colab_link": true
    },
    "kernelspec": {
      "name": "python3",
      "display_name": "Python 3"
    },
    "accelerator": "GPU"
  },
  "cells": [
    {
      "cell_type": "markdown",
      "metadata": {
        "id": "view-in-github",
        "colab_type": "text"
      },
      "source": [
        "<a href=\"https://colab.research.google.com/github/ashfarhangi/One_Notebook_For_All/blob/main/5_Working_Sentence_Classification_Pytorch_Transformer.ipynb\" target=\"_parent\"><img src=\"https://colab.research.google.com/assets/colab-badge.svg\" alt=\"Open In Colab\"/></a>"
      ]
    },
    {
      "cell_type": "code",
      "metadata": {
        "id": "8H_xQv_Gmvl8"
      },
      "source": [
        "# !kill -9 -1 # Kill if \n",
        "# !nvidia-smi"
      ],
      "execution_count": null,
      "outputs": []
    },
    {
      "cell_type": "code",
      "metadata": {
        "id": "zx03OAC10jiW",
        "colab": {
          "base_uri": "https://localhost:8080/",
          "height": 1000
        },
        "outputId": "fb4b30a5-203f-4056-ebe1-f475f900aeec"
      },
      "source": [
        "%%capture\n",
        "!pip install -qq transformers\n",
        "!pip install -qq --upgrade wandb\n",
        "!wandb login 79c99cb8196ccfc85f75dd926f9e872da3ba85a8\n",
        "import wandb\n",
        "wandb.init(project=\"school\",notes='Dec-5_BERT')\n",
        "\n",
        "# !pip install -qq torch==1.4.0"
      ],
      "execution_count": null,
      "outputs": [
        {
          "output_type": "stream",
          "text": [
            "\u001b[31mERROR: Operation cancelled by user\u001b[0m\n",
            "Traceback (most recent call last):\n",
            "  File \"/usr/local/lib/python3.6/dist-packages/pip/_vendor/pkg_resources/__init__.py\", line 3021, in _dep_map\n",
            "    return self.__dep_map\n",
            "  File \"/usr/local/lib/python3.6/dist-packages/pip/_vendor/pkg_resources/__init__.py\", line 2815, in __getattr__\n",
            "    raise AttributeError(attr)\n",
            "AttributeError: _DistInfoDistribution__dep_map\n",
            "\n",
            "During handling of the above exception, another exception occurred:\n",
            "\n",
            "Traceback (most recent call last):\n",
            "  File \"/usr/local/lib/python3.6/dist-packages/pip/_vendor/pyparsing.py\", line 4749, in parseImpl\n",
            "    return super(ZeroOrMore, self).parseImpl(instring, loc, doActions)\n",
            "  File \"/usr/local/lib/python3.6/dist-packages/pip/_vendor/pyparsing.py\", line 4665, in parseImpl\n",
            "    loc, tokens = self_expr_parse(instring, loc, doActions, callPreParse=False)\n",
            "  File \"/usr/local/lib/python3.6/dist-packages/pip/_vendor/pyparsing.py\", line 1669, in _parseNoCache\n",
            "    loc, tokens = self.parseImpl(instring, preloc, doActions)\n",
            "  File \"/usr/local/lib/python3.6/dist-packages/pip/_vendor/pyparsing.py\", line 4020, in parseImpl\n",
            "    loc, resultlist = self.exprs[0]._parse(instring, loc, doActions, callPreParse=False)\n",
            "  File \"/usr/local/lib/python3.6/dist-packages/pip/_vendor/pyparsing.py\", line 1673, in _parseNoCache\n",
            "    loc, tokens = self.parseImpl(instring, preloc, doActions)\n",
            "  File \"/usr/local/lib/python3.6/dist-packages/pip/_vendor/pyparsing.py\", line 4430, in parseImpl\n",
            "    return self.expr._parse(instring, loc, doActions, callPreParse=False)\n",
            "  File \"/usr/local/lib/python3.6/dist-packages/pip/_vendor/pyparsing.py\", line 1673, in _parseNoCache\n",
            "    loc, tokens = self.parseImpl(instring, preloc, doActions)\n",
            "  File \"/usr/local/lib/python3.6/dist-packages/pip/_vendor/pyparsing.py\", line 2877, in parseImpl\n",
            "    raise ParseException(instring, loc, self.errmsg, self)\n",
            "pip._vendor.pyparsing.ParseException: Expected \",\", found ')'  (at char 20), (line:1, col:21)\n",
            "\n",
            "During handling of the above exception, another exception occurred:\n",
            "\n",
            "Traceback (most recent call last):\n",
            "  File \"/usr/local/lib/python3.6/dist-packages/pip/_internal/cli/base_command.py\", line 153, in _main\n",
            "    status = self.run(options, args)\n",
            "  File \"/usr/local/lib/python3.6/dist-packages/pip/_internal/commands/install.py\", line 438, in run\n",
            "    self._warn_about_conflicts(to_install)\n",
            "  File \"/usr/local/lib/python3.6/dist-packages/pip/_internal/commands/install.py\", line 568, in _warn_about_conflicts\n",
            "    package_set, _dep_info = check_install_conflicts(to_install)\n",
            "  File \"/usr/local/lib/python3.6/dist-packages/pip/_internal/operations/check.py\", line 114, in check_install_conflicts\n",
            "    package_set, _ = create_package_set_from_installed()\n",
            "  File \"/usr/local/lib/python3.6/dist-packages/pip/_internal/operations/check.py\", line 53, in create_package_set_from_installed\n",
            "    package_set[name] = PackageDetails(dist.version, dist.requires())\n",
            "  File \"/usr/local/lib/python3.6/dist-packages/pip/_vendor/pkg_resources/__init__.py\", line 2736, in requires\n",
            "    dm = self._dep_map\n",
            "  File \"/usr/local/lib/python3.6/dist-packages/pip/_vendor/pkg_resources/__init__.py\", line 3023, in _dep_map\n",
            "    self.__dep_map = self._compute_dependencies()\n",
            "  File \"/usr/local/lib/python3.6/dist-packages/pip/_vendor/pkg_resources/__init__.py\", line 3033, in _compute_dependencies\n",
            "    reqs.extend(parse_requirements(req))\n",
            "  File \"/usr/local/lib/python3.6/dist-packages/pip/_vendor/pkg_resources/__init__.py\", line 3094, in parse_requirements\n",
            "    yield Requirement(line)\n",
            "  File \"/usr/local/lib/python3.6/dist-packages/pip/_vendor/pkg_resources/__init__.py\", line 3101, in __init__\n",
            "    super(Requirement, self).__init__(requirement_string)\n",
            "  File \"/usr/local/lib/python3.6/dist-packages/pip/_vendor/packaging/requirements.py\", line 93, in __init__\n",
            "    req = REQUIREMENT.parseString(requirement_string)\n",
            "  File \"/usr/local/lib/python3.6/dist-packages/pip/_vendor/pyparsing.py\", line 1929, in parseString\n",
            "    loc, tokens = self._parse(instring, 0)\n",
            "  File \"/usr/local/lib/python3.6/dist-packages/pip/_vendor/pyparsing.py\", line 1669, in _parseNoCache\n",
            "    loc, tokens = self.parseImpl(instring, preloc, doActions)\n",
            "  File \"/usr/local/lib/python3.6/dist-packages/pip/_vendor/pyparsing.py\", line 4037, in parseImpl\n",
            "    loc, exprtokens = e._parse(instring, loc, doActions)\n",
            "  File \"/usr/local/lib/python3.6/dist-packages/pip/_vendor/pyparsing.py\", line 1669, in _parseNoCache\n",
            "    loc, tokens = self.parseImpl(instring, preloc, doActions)\n",
            "  File \"/usr/local/lib/python3.6/dist-packages/pip/_vendor/pyparsing.py\", line 4222, in parseImpl\n",
            "    ret = e._parse(instring, loc, doActions)\n",
            "  File \"/usr/local/lib/python3.6/dist-packages/pip/_vendor/pyparsing.py\", line 1669, in _parseNoCache\n",
            "    loc, tokens = self.parseImpl(instring, preloc, doActions)\n",
            "  File \"/usr/local/lib/python3.6/dist-packages/pip/_vendor/pyparsing.py\", line 4020, in parseImpl\n",
            "    loc, resultlist = self.exprs[0]._parse(instring, loc, doActions, callPreParse=False)\n",
            "  File \"/usr/local/lib/python3.6/dist-packages/pip/_vendor/pyparsing.py\", line 1669, in _parseNoCache\n",
            "    loc, tokens = self.parseImpl(instring, preloc, doActions)\n",
            "  File \"/usr/local/lib/python3.6/dist-packages/pip/_vendor/pyparsing.py\", line 4037, in parseImpl\n",
            "    loc, exprtokens = e._parse(instring, loc, doActions)\n",
            "  File \"/usr/local/lib/python3.6/dist-packages/pip/_vendor/pyparsing.py\", line 1669, in _parseNoCache\n",
            "    loc, tokens = self.parseImpl(instring, preloc, doActions)\n",
            "  File \"/usr/local/lib/python3.6/dist-packages/pip/_vendor/pyparsing.py\", line 4817, in parseImpl\n",
            "    loc, tokens = self.expr._parse(instring, loc, doActions, callPreParse=False)\n",
            "  File \"/usr/local/lib/python3.6/dist-packages/pip/_vendor/pyparsing.py\", line 1669, in _parseNoCache\n",
            "    loc, tokens = self.parseImpl(instring, preloc, doActions)\n",
            "  File \"/usr/local/lib/python3.6/dist-packages/pip/_vendor/pyparsing.py\", line 4222, in parseImpl\n",
            "    ret = e._parse(instring, loc, doActions)\n",
            "  File \"/usr/local/lib/python3.6/dist-packages/pip/_vendor/pyparsing.py\", line 1669, in _parseNoCache\n",
            "    loc, tokens = self.parseImpl(instring, preloc, doActions)\n",
            "  File \"/usr/local/lib/python3.6/dist-packages/pip/_vendor/pyparsing.py\", line 4037, in parseImpl\n",
            "    loc, exprtokens = e._parse(instring, loc, doActions)\n",
            "  File \"/usr/local/lib/python3.6/dist-packages/pip/_vendor/pyparsing.py\", line 1669, in _parseNoCache\n",
            "    loc, tokens = self.parseImpl(instring, preloc, doActions)\n",
            "  File \"/usr/local/lib/python3.6/dist-packages/pip/_vendor/pyparsing.py\", line 4430, in parseImpl\n",
            "    return self.expr._parse(instring, loc, doActions, callPreParse=False)\n",
            "  File \"/usr/local/lib/python3.6/dist-packages/pip/_vendor/pyparsing.py\", line 1669, in _parseNoCache\n",
            "    loc, tokens = self.parseImpl(instring, preloc, doActions)\n",
            "  File \"/usr/local/lib/python3.6/dist-packages/pip/_vendor/pyparsing.py\", line 4037, in parseImpl\n",
            "    loc, exprtokens = e._parse(instring, loc, doActions)\n",
            "  File \"/usr/local/lib/python3.6/dist-packages/pip/_vendor/pyparsing.py\", line 1669, in _parseNoCache\n",
            "    loc, tokens = self.parseImpl(instring, preloc, doActions)\n",
            "  File \"/usr/local/lib/python3.6/dist-packages/pip/_vendor/pyparsing.py\", line 4749, in parseImpl\n",
            "    return super(ZeroOrMore, self).parseImpl(instring, loc, doActions)\n",
            "KeyboardInterrupt\n",
            "\n",
            "During handling of the above exception, another exception occurred:\n",
            "\n",
            "Traceback (most recent call last):\n",
            "  File \"/usr/local/bin/pip3\", line 8, in <module>\n",
            "    sys.exit(main())\n",
            "  File \"/usr/local/lib/python3.6/dist-packages/pip/_internal/main.py\", line 47, in main\n",
            "    return command.main(cmd_args)\n",
            "  File \"/usr/local/lib/python3.6/dist-packages/pip/_internal/cli/base_command.py\", line 103, in main\n",
            "    return self._main(args)\n",
            "  File \"/usr/local/lib/python3.6/dist-packages/pip/_internal/cli/base_command.py\", line 183, in _main\n",
            "    logger.debug('Exception information:', exc_info=True)\n",
            "  File \"/usr/lib/python3.6/logging/__init__.py\", line 1296, in debug\n",
            "    self._log(DEBUG, msg, args, **kwargs)\n",
            "  File \"/usr/lib/python3.6/logging/__init__.py\", line 1444, in _log\n",
            "    self.handle(record)\n",
            "  File \"/usr/lib/python3.6/logging/__init__.py\", line 1454, in handle\n",
            "    self.callHandlers(record)\n",
            "  File \"/usr/lib/python3.6/logging/__init__.py\", line 1516, in callHandlers\n",
            "    hdlr.handle(record)\n",
            "  File \"/usr/lib/python3.6/logging/__init__.py\", line 865, in handle\n",
            "    self.emit(record)\n",
            "  File \"/usr/lib/python3.6/logging/handlers.py\", line 73, in emit\n",
            "    logging.FileHandler.emit(self, record)\n",
            "  File \"/usr/lib/python3.6/logging/__init__.py\", line 1072, in emit\n",
            "    StreamHandler.emit(self, record)\n",
            "  File \"/usr/lib/python3.6/logging/__init__.py\", line 994, in emit\n",
            "    msg = self.format(record)\n",
            "  File \"/usr/lib/python3.6/logging/__init__.py\", line 840, in format\n",
            "    return fmt.format(record)\n",
            "  File \"/usr/local/lib/python3.6/dist-packages/pip/_internal/utils/logging.py\", line 151, in format\n",
            "    formatted = super(IndentingFormatter, self).format(record)\n",
            "  File \"/usr/lib/python3.6/logging/__init__.py\", line 585, in format\n",
            "    record.exc_text = self.formatException(record.exc_info)\n",
            "  File \"/usr/lib/python3.6/logging/__init__.py\", line 535, in formatException\n",
            "    traceback.print_exception(ei[0], ei[1], tb, None, sio)\n",
            "  File \"/usr/lib/python3.6/traceback.py\", line 104, in print_exception\n",
            "    type(value), value, tb, limit=limit).format(chain=chain):\n",
            "  File \"/usr/lib/python3.6/traceback.py\", line 509, in __init__\n",
            "    capture_locals=capture_locals)\n",
            "  File \"/usr/lib/python3.6/traceback.py\", line 364, in extract\n",
            "    f.line\n",
            "  File \"/usr/lib/python3.6/traceback.py\", line 286, in line\n",
            "    self._line = linecache.getline(self.filename, self.lineno).strip()\n",
            "  File \"/usr/lib/python3.6/linecache.py\", line 16, in getline\n",
            "    lines = getlines(filename, module_globals)\n",
            "  File \"/usr/lib/python3.6/linecache.py\", line 47, in getlines\n",
            "    return updatecache(filename, module_globals)\n",
            "  File \"/usr/lib/python3.6/linecache.py\", line 136, in updatecache\n",
            "    with tokenize.open(fullname) as fp:\n",
            "  File \"/usr/lib/python3.6/tokenize.py\", line 454, in open\n",
            "    encoding, lines = detect_encoding(buffer.readline)\n",
            "  File \"/usr/lib/python3.6/tokenize.py\", line 423, in detect_encoding\n",
            "    first = read_or_stop()\n",
            "  File \"/usr/lib/python3.6/tokenize.py\", line 381, in read_or_stop\n",
            "    return readline()\n",
            "KeyboardInterrupt\n",
            "\u001b[34m\u001b[1mwandb\u001b[0m: Appending key for api.wandb.ai to your netrc file: /root/.netrc\n"
          ],
          "name": "stdout"
        },
        {
          "output_type": "stream",
          "text": [
            "\u001b[34m\u001b[1mwandb\u001b[0m: Currently logged in as: \u001b[33mashfarhangi\u001b[0m (use `wandb login --relogin` to force relogin)\n"
          ],
          "name": "stderr"
        },
        {
          "output_type": "display_data",
          "data": {
            "text/html": [
              "\n",
              "                Tracking run with wandb version 0.10.12<br/>\n",
              "                Syncing run <strong style=\"color:#cdcd00\">youthful-brook-33</strong> to <a href=\"https://wandb.ai\" target=\"_blank\">Weights & Biases</a> <a href=\"https://docs.wandb.com/integrations/jupyter.html\" target=\"_blank\">(Documentation)</a>.<br/>\n",
              "                Project page: <a href=\"https://wandb.ai/ashfarhangi/school\" target=\"_blank\">https://wandb.ai/ashfarhangi/school</a><br/>\n",
              "                Run page: <a href=\"https://wandb.ai/ashfarhangi/school/runs/38fu3xm3\" target=\"_blank\">https://wandb.ai/ashfarhangi/school/runs/38fu3xm3</a><br/>\n",
              "                Run data is saved locally in <code>/content/wandb/run-20201209_004308-38fu3xm3</code><br/><br/>\n",
              "            "
            ],
            "text/plain": [
              "<IPython.core.display.HTML object>"
            ]
          },
          "metadata": {
            "tags": []
          }
        },
        {
          "output_type": "execute_result",
          "data": {
            "text/plain": [
              "<wandb.sdk.wandb_run.Run at 0x7fc4f36f5c88>"
            ],
            "text/html": [
              "<h1>Run(38fu3xm3)</h1><p></p><iframe src=\"https://wandb.ai/ashfarhangi/school/runs/38fu3xm3\" style=\"border:none;width:100%;height:400px\"></iframe>"
            ]
          },
          "metadata": {
            "tags": []
          },
          "execution_count": 2
        }
      ]
    },
    {
      "cell_type": "code",
      "metadata": {
        "id": "m2eQo9hh07fk"
      },
      "source": [
        "RANDOM_SEED =47\n",
        "import numpy as np\n",
        "import pandas as pd\n",
        "import matplotlib.pyplot as plt\n",
        "import torch\n",
        "from torch import nn, optim\n",
        "from torch.utils.data import Dataset, DataLoader\n",
        "import torch.nn.functional as F\n",
        "import warnings\n",
        "warnings.filterwarnings('ignore')\n",
        "import sklearn\n",
        "from sklearn.model_selection import train_test_split\n",
        "from sklearn.metrics import confusion_matrix,classification_report\n",
        "from collections import defaultdict\n",
        "from textwrap import wrap\n",
        "import seaborn as sns\n",
        "from joblib import load, dump\n",
        "import pickle\n",
        "from tqdm import tqdm\n",
        "import transformers\n",
        "torch.manual_seed(RANDOM_SEED) \n",
        "device = torch.device (\"cuda:0\" if torch.cuda.is_available() else \"cpu\")"
      ],
      "execution_count": null,
      "outputs": []
    },
    {
      "cell_type": "code",
      "metadata": {
        "colab": {
          "base_uri": "https://localhost:8080/"
        },
        "id": "oQCOQoq2QRGP",
        "outputId": "d75c9871-7b11-472e-e916-2a6209afc9bc"
      },
      "source": [
        "!pip install -qq watermark\n",
        "%reload_ext watermark\n",
        "%watermark -v -p numpy,tensorflow,torch,pandas,sklearn,seaborn"
      ],
      "execution_count": null,
      "outputs": [
        {
          "output_type": "stream",
          "text": [
            "CPython 3.6.9\n",
            "IPython 5.5.0\n",
            "\n",
            "numpy 1.18.5\n",
            "tensorflow 2.3.0\n",
            "torch 1.7.0+cu101\n",
            "pandas 1.1.4\n",
            "sklearn 0.0\n",
            "seaborn 0.11.0\n"
          ],
          "name": "stdout"
        }
      ]
    },
    {
      "cell_type": "code",
      "metadata": {
        "id": "EgahYF4y1fu7"
      },
      "source": [
        "plt.rcParams['figure.figsize'] =(14,8)\n",
        "\n",
        "import matplotlib.pylab as pylab\n",
        "params = {'legend.fontsize': 'x-large',\n",
        "'figure.figsize': (18, 8),\n",
        "'axes.labelsize': '16',\n",
        "'axes.titlesize': '16',\n",
        "'xtick.labelsize':'14',\n",
        "'ytick.labelsize':'14',\n",
        "'font.family': 'Times new roman'}\n",
        "pylab.rcParams.update(params)\n",
        "\n",
        "%matplotlib inline\n",
        "%config InlineBackend.figure_format='retina'\n",
        "sns.set(style='whitegrid', palette='muted', font_scale=1.2)\n",
        "HAPPY_COLORS_PALETTE = [\"#01BEFE\", \"#FFDD00\", \"#FF7D00\", \"#FF006D\", \"#93D30C\", \"#8F00FF\"]\n",
        "sns.set_palette(sns.color_palette(HAPPY_COLORS_PALETTE))\n",
        "RANDOM_SEED =47\n",
        "np.random.seed(RANDOM_SEED)\n",
        "torch.manual_seed(RANDOM_SEED) \n",
        "device = torch.device (\"cuda:0\" if torch.cuda.is_available() else \"cpu\")"
      ],
      "execution_count": null,
      "outputs": []
    },
    {
      "cell_type": "code",
      "metadata": {
        "colab": {
          "base_uri": "https://localhost:8080/",
          "height": 1000
        },
        "id": "mZ5VpZjX1scG",
        "outputId": "77a6e095-05dd-4542-f905-443e465da4e8"
      },
      "source": [
        "df = pd.read_csv('/content/drive/MyDrive/Colab Notebooks/0.NLP_Twitter_&_Complaints/data/dec_5_hand.csv')\n",
        "df\n",
        "\n",
        "# df_origin = pd.read_csv('/content/drive/MyDrive/Colab Notebooks/0.NLP_Twitter_&_Complaints/data/ucf_college_tweets.csv')\n",
        "# df_origin.columns = ['created_at','school_name','user_name','text','school_handle','tweet_id']\n",
        "# col='user_name'\n",
        "# df = df_origin[df_origin.groupby(col)[col].transform('size') < 200]\n",
        "df.reset_index(drop=True,inplace=True)\n",
        "sns.countplot(df.school_handle)\n",
        "plt.xlabel('College')\n",
        "plt.show()\n",
        "df"
      ],
      "execution_count": null,
      "outputs": [
        {
          "output_type": "display_data",
          "data": {
            "image/png": "[encoded data removed]",
            "text/plain": [
              "<Figure size 432x288 with 1 Axes>"
            ]
          },
          "metadata": {
            "tags": [],
            "image/png": {
              "width": 418,
              "height": 272
            }
          }
        },
        {
          "output_type": "execute_result",
          "data": {
            "text/html": [
              "<div>\n",
              "<style scoped>\n",
              "    .dataframe tbody tr th:only-of-type {\n",
              "        vertical-align: middle;\n",
              "    }\n",
              "\n",
              "    .dataframe tbody tr th {\n",
              "        vertical-align: top;\n",
              "    }\n",
              "\n",
              "    .dataframe thead th {\n",
              "        text-align: right;\n",
              "    }\n",
              "</style>\n",
              "<table border=\"1\" class=\"dataframe\">\n",
              "  <thead>\n",
              "    <tr style=\"text-align: right;\">\n",
              "      <th></th>\n",
              "      <th>created_at</th>\n",
              "      <th>school_name</th>\n",
              "      <th>user_name</th>\n",
              "      <th>text</th>\n",
              "      <th>school_handle</th>\n",
              "      <th>tweet_id</th>\n",
              "    </tr>\n",
              "  </thead>\n",
              "  <tbody>\n",
              "    <tr>\n",
              "      <th>0</th>\n",
              "      <td>2020-11-20 17:36:57</td>\n",
              "      <td>UCF Engineering</td>\n",
              "      <td>Brendon_Cavy</td>\n",
              "      <td>Proud boyfriend here. I defended my thesis at ...</td>\n",
              "      <td>UCFCECS</td>\n",
              "      <td>1329841171703754757</td>\n",
              "    </tr>\n",
              "    <tr>\n",
              "      <th>1</th>\n",
              "      <td>2020-11-20 15:25:27</td>\n",
              "      <td>UCF Engineering</td>\n",
              "      <td>Brendon_Cavy</td>\n",
              "      <td>RT @Kean_Research: Super proud of @alyssa_mick...</td>\n",
              "      <td>UCFCECS</td>\n",
              "      <td>1329808078750044160</td>\n",
              "    </tr>\n",
              "    <tr>\n",
              "      <th>2</th>\n",
              "      <td>2020-11-16 03:42:59</td>\n",
              "      <td>UCF Engineering</td>\n",
              "      <td>Brendon_Cavy</td>\n",
              "      <td>@neggplant Mood</td>\n",
              "      <td>UCFCECS</td>\n",
              "      <td>1328181748111380480</td>\n",
              "    </tr>\n",
              "    <tr>\n",
              "      <th>3</th>\n",
              "      <td>2020-11-16 03:41:58</td>\n",
              "      <td>UCF Engineering</td>\n",
              "      <td>Brendon_Cavy</td>\n",
              "      <td>RT @DaveMosher: PSA: Space folks know this is ...</td>\n",
              "      <td>UCFCECS</td>\n",
              "      <td>1328181490413395968</td>\n",
              "    </tr>\n",
              "    <tr>\n",
              "      <th>4</th>\n",
              "      <td>2020-11-16 01:19:02</td>\n",
              "      <td>UCF Engineering</td>\n",
              "      <td>Brendon_Cavy</td>\n",
              "      <td>RT @UCF_Football: Reach for the Stars, #Crew1 ...</td>\n",
              "      <td>UCFCECS</td>\n",
              "      <td>1328145518468472832</td>\n",
              "    </tr>\n",
              "    <tr>\n",
              "      <th>...</th>\n",
              "      <td>...</td>\n",
              "      <td>...</td>\n",
              "      <td>...</td>\n",
              "      <td>...</td>\n",
              "      <td>...</td>\n",
              "      <td>...</td>\n",
              "    </tr>\n",
              "    <tr>\n",
              "      <th>50849</th>\n",
              "      <td>2020-04-05 04:36:35</td>\n",
              "      <td>UCF Medicine</td>\n",
              "      <td>marcellaftm</td>\n",
              "      <td>RT @GordyPls: Announcement screen on ground fl...</td>\n",
              "      <td>ourmedschool</td>\n",
              "      <td>1246657966075494400</td>\n",
              "    </tr>\n",
              "    <tr>\n",
              "      <th>50850</th>\n",
              "      <td>2020-04-05 04:35:05</td>\n",
              "      <td>UCF Medicine</td>\n",
              "      <td>marcellaftm</td>\n",
              "      <td>RT @H2O_SportsMD: Intubation is complete. #Ort...</td>\n",
              "      <td>ourmedschool</td>\n",
              "      <td>1246657586822291457</td>\n",
              "    </tr>\n",
              "    <tr>\n",
              "      <th>50851</th>\n",
              "      <td>2020-04-05 04:34:56</td>\n",
              "      <td>UCF Medicine</td>\n",
              "      <td>marcellaftm</td>\n",
              "      <td>RT @McFaul: Is there a reason Trump calls the ...</td>\n",
              "      <td>ourmedschool</td>\n",
              "      <td>1246657552437448707</td>\n",
              "    </tr>\n",
              "    <tr>\n",
              "      <th>50852</th>\n",
              "      <td>2020-04-05 04:34:17</td>\n",
              "      <td>UCF Medicine</td>\n",
              "      <td>marcellaftm</td>\n",
              "      <td>RT @ChrisCarrollMD: I don’t know who needs to ...</td>\n",
              "      <td>ourmedschool</td>\n",
              "      <td>1246657385176989697</td>\n",
              "    </tr>\n",
              "    <tr>\n",
              "      <th>50853</th>\n",
              "      <td>2020-04-05 02:59:55</td>\n",
              "      <td>UCF Medicine</td>\n",
              "      <td>marcellaftm</td>\n",
              "      <td>RT @spinesurgerydoc: People, stay at home! Thi...</td>\n",
              "      <td>ourmedschool</td>\n",
              "      <td>1246633639405895680</td>\n",
              "    </tr>\n",
              "  </tbody>\n",
              "</table>\n",
              "<p>50854 rows × 6 columns</p>\n",
              "</div>"
            ],
            "text/plain": [
              "                created_at      school_name  ... school_handle             tweet_id\n",
              "0      2020-11-20 17:36:57  UCF Engineering  ...       UCFCECS  1329841171703754757\n",
              "1      2020-11-20 15:25:27  UCF Engineering  ...       UCFCECS  1329808078750044160\n",
              "2      2020-11-16 03:42:59  UCF Engineering  ...       UCFCECS  1328181748111380480\n",
              "3      2020-11-16 03:41:58  UCF Engineering  ...       UCFCECS  1328181490413395968\n",
              "4      2020-11-16 01:19:02  UCF Engineering  ...       UCFCECS  1328145518468472832\n",
              "...                    ...              ...  ...           ...                  ...\n",
              "50849  2020-04-05 04:36:35     UCF Medicine  ...  ourmedschool  1246657966075494400\n",
              "50850  2020-04-05 04:35:05     UCF Medicine  ...  ourmedschool  1246657586822291457\n",
              "50851  2020-04-05 04:34:56     UCF Medicine  ...  ourmedschool  1246657552437448707\n",
              "50852  2020-04-05 04:34:17     UCF Medicine  ...  ourmedschool  1246657385176989697\n",
              "50853  2020-04-05 02:59:55     UCF Medicine  ...  ourmedschool  1246633639405895680\n",
              "\n",
              "[50854 rows x 6 columns]"
            ]
          },
          "metadata": {
            "tags": []
          },
          "execution_count": 6
        }
      ]
    },
    {
      "cell_type": "code",
      "metadata": {
        "id": "SpsibvzRV1m_"
      },
      "source": [
        "#  df = df.sample(5000)\n",
        "# df.reset_index(drop=True,inplace=True)"
      ],
      "execution_count": null,
      "outputs": []
    },
    {
      "cell_type": "code",
      "metadata": {
        "colab": {
          "base_uri": "https://localhost:8080/",
          "height": 307
        },
        "id": "GWNe-dji3fdW",
        "outputId": "e2c7a628-5cb2-49b5-f7b5-ba8fecdaa701"
      },
      "source": [
        "# from sklearn.utils import resample\n",
        "# cat_1= df[df.school_handle == 'UCFCECS']\n",
        "# cat_2= df[df.school_handle == 'ucfcah']\n",
        "\n",
        "# cat_large = df[df.school_handle == 'ourmedschool']\n",
        "# cat_1 = resample(cat_1,\n",
        "#                           replace=True,\n",
        "#                           n_samples=len(cat_large),\n",
        "#                           random_state=RANDOM_SEED)\n",
        "# cat_2 = resample(cat_2,\n",
        "#                           replace=True,\n",
        "#                           n_samples=len(cat_large),\n",
        "#                           random_state=RANDOM_SEED)\n",
        "# df1 = pd.merge(cat_1,cat_large,how='outer')\n",
        "# df1 = pd.merge(df1,cat_2,how='outer')\n",
        "# df1\n",
        "# sns.countplot(df1.school_handle)\n",
        "# plt.xlabel('College')\n",
        "cat_small =  df[df.school_handle == 'ourmedschool']\n",
        "cat_1= df[df.school_handle == 'UCFCECS'].sample(len(cat_small))\n",
        "cat_2= df[df.school_handle == 'ucfcah'].sample(len(cat_small))\n",
        "\n",
        "df1 = pd.merge(cat_1,cat_small,how='outer')\n",
        "df1 = pd.merge(df1,cat_2,how='outer')\n",
        "sns.countplot(df1.school_handle)\n",
        "plt.xlabel('College')"
      ],
      "execution_count": null,
      "outputs": [
        {
          "output_type": "execute_result",
          "data": {
            "text/plain": [
              "Text(0.5, 0, 'College')"
            ]
          },
          "metadata": {
            "tags": []
          },
          "execution_count": 8
        },
        {
          "output_type": "display_data",
          "data": {
            "image/png": "[encoded data removed]",
            "text/plain": [
              "<Figure size 432x288 with 1 Axes>"
            ]
          },
          "metadata": {
            "tags": [],
            "image/png": {
              "width": 418,
              "height": 272
            }
          }
        }
      ]
    },
    {
      "cell_type": "code",
      "metadata": {
        "colab": {
          "base_uri": "https://localhost:8080/",
          "height": 307
        },
        "id": "sbO6oX9oofKn",
        "outputId": "95af7a02-3618-40e1-81a0-0d774e6ffe75"
      },
      "source": [
        "# df1 = df1.sample(2000)\n",
        "\n",
        "sns.countplot(df1.school_handle)\n",
        "plt.xlabel('College')\n"
      ],
      "execution_count": null,
      "outputs": [
        {
          "output_type": "execute_result",
          "data": {
            "text/plain": [
              "Text(0.5, 0, 'College')"
            ]
          },
          "metadata": {
            "tags": []
          },
          "execution_count": 9
        },
        {
          "output_type": "display_data",
          "data": {
            "image/png": "[encoded data removed]",
            "text/plain": [
              "<Figure size 432x288 with 1 Axes>"
            ]
          },
          "metadata": {
            "tags": [],
            "image/png": {
              "width": 418,
              "height": 272
            }
          }
        }
      ]
    },
    {
      "cell_type": "code",
      "metadata": {
        "id": "32fwqw5YB4w_"
      },
      "source": [
        "from sklearn.preprocessing import LabelEncoder\n",
        "le = LabelEncoder()\n",
        "df1['label']= le.fit_transform(df1['school_handle'])\n"
      ],
      "execution_count": null,
      "outputs": []
    },
    {
      "cell_type": "code",
      "metadata": {
        "id": "1BxofGXV5JTa"
      },
      "source": [
        "PRE_TRAINED_MODEL_NAME = 'bert-base-cased'\n",
        "tokenizer = transformers.BertTokenizer.from_pretrained(PRE_TRAINED_MODEL_NAME)\n"
      ],
      "execution_count": null,
      "outputs": []
    },
    {
      "cell_type": "code",
      "metadata": {
        "colab": {
          "base_uri": "https://localhost:8080/"
        },
        "id": "HuBYe65e6ipe",
        "outputId": "d684faed-6c27-4cd2-8e78-38dc26facb7c"
      },
      "source": [
        "sample_txt = 'We are located at University of Central Florida!'\n",
        "tokens = tokenizer.tokenize(sample_txt)\n",
        "token_ids = tokenizer.convert_tokens_to_ids(tokens)\n",
        "print(f' Sentence: {sample_txt}')\n",
        "print(f' Tokens: {tokens}')\n",
        "print(f' Token ids: {token_ids}')"
      ],
      "execution_count": null,
      "outputs": [
        {
          "output_type": "stream",
          "text": [
            " Sentence: We are located at University of Central Florida!\n",
            " Tokens: ['We', 'are', 'located', 'at', 'University', 'of', 'Central', 'Florida', '!']\n",
            " Token ids: [1284, 1132, 1388, 1120, 1239, 1104, 1970, 2631, 106]\n"
          ],
          "name": "stdout"
        }
      ]
    },
    {
      "cell_type": "code",
      "metadata": {
        "colab": {
          "base_uri": "https://localhost:8080/"
        },
        "id": "J2JhuuIu7kcp",
        "outputId": "cfd8e3e0-519b-4f8c-b8a4-773499604c3a"
      },
      "source": [
        "encoding = tokenizer.encode_plus(\n",
        "    sample_txt,\n",
        "    max_length= 32,\n",
        "    add_special_tokens=True,\n",
        "    return_token_type_ids =False,\n",
        "    pad_to_max_length = True,\n",
        "    return_attention_mask=True,\n",
        "    return_tensors='pt') # returns pytorch tensors\n",
        "encoding.keys()"
      ],
      "execution_count": null,
      "outputs": [
        {
          "output_type": "stream",
          "text": [
            "Truncation was not explicitly activated but `max_length` is provided a specific value, please use `truncation=True` to explicitly truncate examples to max length. Defaulting to 'longest_first' truncation strategy. If you encode pairs of sequences (GLUE-style) with the tokenizer you can select this strategy more precisely by providing a specific strategy to `truncation`.\n"
          ],
          "name": "stderr"
        },
        {
          "output_type": "execute_result",
          "data": {
            "text/plain": [
              "dict_keys(['input_ids', 'attention_mask'])"
            ]
          },
          "metadata": {
            "tags": []
          },
          "execution_count": 13
        }
      ]
    },
    {
      "cell_type": "code",
      "metadata": {
        "colab": {
          "base_uri": "https://localhost:8080/"
        },
        "id": "UiYsMwVl8H98",
        "outputId": "3056672f-e56f-4e8d-95d7-68289ab2398d"
      },
      "source": [
        "a = encoding['input_ids']\n",
        "b = encoding['attention_mask']\n",
        "print(f' Input ids: {a}')\n",
        "print(f' Attention Masks: {b}')\n",
        "tokenizer.convert_ids_to_tokens(encoding['input_ids'][0])"
      ],
      "execution_count": null,
      "outputs": [
        {
          "output_type": "stream",
          "text": [
            " Input ids: tensor([[ 101, 1284, 1132, 1388, 1120, 1239, 1104, 1970, 2631,  106,  102,    0,\n",
            "            0,    0,    0,    0,    0,    0,    0,    0,    0,    0,    0,    0,\n",
            "            0,    0,    0,    0,    0,    0,    0,    0]])\n",
            " Attention Masks: tensor([[1, 1, 1, 1, 1, 1, 1, 1, 1, 1, 1, 0, 0, 0, 0, 0, 0, 0, 0, 0, 0, 0, 0, 0,\n",
            "         0, 0, 0, 0, 0, 0, 0, 0]])\n"
          ],
          "name": "stdout"
        },
        {
          "output_type": "execute_result",
          "data": {
            "text/plain": [
              "['[CLS]',\n",
              " 'We',\n",
              " 'are',\n",
              " 'located',\n",
              " 'at',\n",
              " 'University',\n",
              " 'of',\n",
              " 'Central',\n",
              " 'Florida',\n",
              " '!',\n",
              " '[SEP]',\n",
              " '[PAD]',\n",
              " '[PAD]',\n",
              " '[PAD]',\n",
              " '[PAD]',\n",
              " '[PAD]',\n",
              " '[PAD]',\n",
              " '[PAD]',\n",
              " '[PAD]',\n",
              " '[PAD]',\n",
              " '[PAD]',\n",
              " '[PAD]',\n",
              " '[PAD]',\n",
              " '[PAD]',\n",
              " '[PAD]',\n",
              " '[PAD]',\n",
              " '[PAD]',\n",
              " '[PAD]',\n",
              " '[PAD]',\n",
              " '[PAD]',\n",
              " '[PAD]',\n",
              " '[PAD]']"
            ]
          },
          "metadata": {
            "tags": []
          },
          "execution_count": 14
        }
      ]
    },
    {
      "cell_type": "code",
      "metadata": {
        "colab": {
          "base_uri": "https://localhost:8080/"
        },
        "id": "dBM2QJbU9US6",
        "outputId": "d52202ed-ce7c-44b4-bcbb-58e92c1fb930"
      },
      "source": [
        "token_lens = []\n",
        "for txt in tqdm(df1.text):\n",
        "  tokens = tokenizer.encode(txt,max_length=512)\n",
        "  token_lens.append(len(tokens))\n"
      ],
      "execution_count": null,
      "outputs": [
        {
          "output_type": "stream",
          "text": [
            "100%|██████████| 30930/30930 [00:13<00:00, 2323.37it/s]\n"
          ],
          "name": "stderr"
        }
      ]
    },
    {
      "cell_type": "code",
      "metadata": {
        "colab": {
          "base_uri": "https://localhost:8080/",
          "height": 395
        },
        "id": "iXgiQ1Yl-dWK",
        "outputId": "d0e6e766-82fc-4782-918b-913d6707238b"
      },
      "source": [
        "sns.displot(token_lens)\n",
        "plt.xlabel('Token Count')"
      ],
      "execution_count": null,
      "outputs": [
        {
          "output_type": "execute_result",
          "data": {
            "text/plain": [
              "Text(0.5, 11.552000000000007, 'Token Count')"
            ]
          },
          "metadata": {
            "tags": []
          },
          "execution_count": 16
        },
        {
          "output_type": "display_data",
          "data": {
            "image/png": "[encoded data removed]",
            "text/plain": [
              "<Figure size 360x360 with 1 Axes>"
            ]
          },
          "metadata": {
            "tags": [],
            "image/png": {
              "width": 343,
              "height": 361
            }
          }
        }
      ]
    },
    {
      "cell_type": "code",
      "metadata": {
        "id": "Dx3Igb7a--Y0"
      },
      "source": [
        "MAX_LEN = 128"
      ],
      "execution_count": null,
      "outputs": []
    },
    {
      "cell_type": "markdown",
      "metadata": {
        "id": "cZmed2Wq_GcN"
      },
      "source": [
        "## PyTorch Dataset\n"
      ]
    },
    {
      "cell_type": "code",
      "metadata": {
        "id": "husNh8ED_IXr"
      },
      "source": [
        "class Dataset(torch.utils.data.Dataset):\n",
        "  def __init__(self,text,target,tokenizer,max_len):\n",
        "    self.text = text\n",
        "    self.target = target\n",
        "    self.tokenizer = tokenizer\n",
        "    self.max_len = max_len\n",
        "\n",
        "  def __len__(self):\n",
        "    return len(self.text)\n",
        "# get item function of pyTorch\n",
        "  def __getitem__(self,item):\n",
        "    text = str(self.text[item])\n",
        "    target = self.target[item]\n",
        "    \n",
        "    encoding = tokenizer.encode_plus(\n",
        "        text,\n",
        "        add_special_tokens = True,\n",
        "        max_length = self.max_len,\n",
        "        return_token_type_ids=False,\n",
        "        pad_to_max_length = True,\n",
        "        return_attention_mask=True,\n",
        "        return_tensors='pt'\n",
        "    )\n",
        "    return {\n",
        "        'text': text,\n",
        "        'input_ids': encoding['input_ids'].flatten(),\n",
        "        'attention_mask':encoding['attention_mask'].flatten(),\n",
        "        'targets':torch.tensor(target,dtype=torch.long)\n",
        "    }\n"
      ],
      "execution_count": null,
      "outputs": []
    },
    {
      "cell_type": "code",
      "metadata": {
        "colab": {
          "base_uri": "https://localhost:8080/"
        },
        "id": "C5DoYXsBCXX6",
        "outputId": "bfed7b9f-0418-4206-ae72-dcde45cf62c2"
      },
      "source": [
        "df_train, df_test = train_test_split(df1,test_size=0.1,random_state=RANDOM_SEED)\n",
        "df_val, df_test = train_test_split(df_test,test_size=0.5, random_state= RANDOM_SEED)\n",
        "df_train.shape,df_val.shape,df_test.shape"
      ],
      "execution_count": null,
      "outputs": [
        {
          "output_type": "execute_result",
          "data": {
            "text/plain": [
              "((27837, 7), (1546, 7), (1547, 7))"
            ]
          },
          "metadata": {
            "tags": []
          },
          "execution_count": 19
        }
      ]
    },
    {
      "cell_type": "code",
      "metadata": {
        "id": "cUSyfQTzDgC-"
      },
      "source": [
        "# data loader transformers the data into batch data\n",
        "def create_data_loader(df1, tokenizer,max_len,batch_size):\n",
        "  ds = Dataset(text = df1.text.to_numpy(),\n",
        "               target = df1.label.to_numpy(),\n",
        "               tokenizer = tokenizer,\n",
        "               max_len = max_len)\n",
        "  return torch.utils.data.DataLoader(\n",
        "      ds,\n",
        "      batch_size = batch_size,\n",
        "      num_workers = 4\n",
        "  )"
      ],
      "execution_count": null,
      "outputs": []
    },
    {
      "cell_type": "code",
      "metadata": {
        "id": "fCYkdTHJEZ-F"
      },
      "source": [
        "BATCH_SIZE = 16\n",
        "\n",
        "train_data_loader = create_data_loader(df_train,tokenizer,MAX_LEN,BATCH_SIZE)\n",
        "val_data_loader = create_data_loader(df_val,tokenizer,MAX_LEN,BATCH_SIZE)\n",
        "test_data_loader = create_data_loader(df_test,tokenizer,MAX_LEN,BATCH_SIZE)"
      ],
      "execution_count": null,
      "outputs": []
    },
    {
      "cell_type": "code",
      "metadata": {
        "colab": {
          "base_uri": "https://localhost:8080/"
        },
        "id": "0YNbXSC6d5O3",
        "outputId": "fcca3043-3864-484e-f7b0-75faa273809f"
      },
      "source": [
        "\n",
        "len(df_train)"
      ],
      "execution_count": null,
      "outputs": [
        {
          "output_type": "execute_result",
          "data": {
            "text/plain": [
              "27837"
            ]
          },
          "metadata": {
            "tags": []
          },
          "execution_count": 22
        }
      ]
    },
    {
      "cell_type": "code",
      "metadata": {
        "id": "V6AvU_Bul1ya"
      },
      "source": [
        ""
      ],
      "execution_count": null,
      "outputs": []
    },
    {
      "cell_type": "code",
      "metadata": {
        "colab": {
          "base_uri": "https://localhost:8080/"
        },
        "id": "1c6tknkfEvga",
        "outputId": "c29d4d3c-0cd5-42ec-ca31-2abe287fa1a3"
      },
      "source": [
        "data = next(iter(train_data_loader))\n",
        "data.keys()\n",
        "print(data['input_ids'].shape)\n",
        "print(data['attention_mask'].shape)\n",
        "print(data['targets'].shape)"
      ],
      "execution_count": null,
      "outputs": [
        {
          "output_type": "stream",
          "text": [
            "torch.Size([16, 128])\n",
            "torch.Size([16, 128])\n",
            "torch.Size([16])\n"
          ],
          "name": "stdout"
        }
      ]
    },
    {
      "cell_type": "code",
      "metadata": {
        "id": "FwbNJqfvHUw7"
      },
      "source": [
        "bert_model = transformers.BertModel.from_pretrained(PRE_TRAINED_MODEL_NAME)"
      ],
      "execution_count": null,
      "outputs": []
    },
    {
      "cell_type": "code",
      "metadata": {
        "colab": {
          "base_uri": "https://localhost:8080/"
        },
        "id": "3X8mdYPGToOL",
        "outputId": "ee32dbe8-55d1-46c4-b066-920d0beeebe1"
      },
      "source": [
        "last_hidden_state = bert_model(\n",
        "    input_ids = encoding['input_ids'],\n",
        "    attention_mask = encoding['attention_mask']\n",
        ")[0]\n",
        "pooled_output = bert_model(\n",
        "    input_ids = encoding['input_ids'],\n",
        "    attention_mask = encoding['attention_mask']\n",
        ")[1]\n",
        "last_hidden_state.shape"
      ],
      "execution_count": null,
      "outputs": [
        {
          "output_type": "execute_result",
          "data": {
            "text/plain": [
              "torch.Size([1, 32, 768])"
            ]
          },
          "metadata": {
            "tags": []
          },
          "execution_count": 25
        }
      ]
    },
    {
      "cell_type": "code",
      "metadata": {
        "id": "WBKq589wFuWp"
      },
      "source": [
        "class Classifier(torch.nn.Module):\n",
        "\n",
        "  def __init__(self,n_classes):\n",
        "    super(Classifier,self).__init__()\n",
        "    self.bert = transformers.BertModel.from_pretrained(PRE_TRAINED_MODEL_NAME)\n",
        "    self.drop = torch.nn.Dropout(p=0.5)\n",
        "    self.out = torch.nn.Linear(self.bert.config.hidden_size,n_classes)\n",
        "\n",
        "  def forward(self,input_ids, attention_mask):\n",
        "    _ = self.bert(\n",
        "        input_ids = input_ids,\n",
        "        attention_mask = attention_mask\n",
        "    )[0]\n",
        "\n",
        "    pooled_output = self.bert(\n",
        "        input_ids = input_ids,\n",
        "        attention_mask = attention_mask\n",
        "    )[1]\n",
        "    output = self.drop(pooled_output)\n",
        "    return self.out(output)"
      ],
      "execution_count": null,
      "outputs": []
    },
    {
      "cell_type": "code",
      "metadata": {
        "id": "zSJhingClj1l"
      },
      "source": [
        "torch.cuda.empty_cache()\n"
      ],
      "execution_count": null,
      "outputs": []
    },
    {
      "cell_type": "code",
      "metadata": {
        "id": "WLJIs1PIIy-Z"
      },
      "source": [
        "model = Classifier(3) # number of classes in our study is 3\n",
        "model = model.to(device)"
      ],
      "execution_count": null,
      "outputs": []
    },
    {
      "cell_type": "code",
      "metadata": {
        "colab": {
          "base_uri": "https://localhost:8080/"
        },
        "id": "bTo_SUX4JBbc",
        "outputId": "c68dd73e-d361-40df-af0e-2ead95052041"
      },
      "source": [
        "input_ids = data['input_ids'].to(device)\n",
        "attention_mask = data['attention_mask'].to(device)\n",
        "\n",
        "print(input_ids.shape,attention_mask.shape)"
      ],
      "execution_count": null,
      "outputs": [
        {
          "output_type": "stream",
          "text": [
            "torch.Size([16, 128]) torch.Size([16, 128])\n"
          ],
          "name": "stdout"
        }
      ]
    },
    {
      "cell_type": "code",
      "metadata": {
        "colab": {
          "base_uri": "https://localhost:8080/"
        },
        "id": "UEFM9LocJ4ZU",
        "outputId": "c07c18e7-6aeb-4cff-d9ef-63bf774a1ee8"
      },
      "source": [
        "# Apply a softmax function from fuctional class of nn\n",
        "torch.nn.functional.softmax(model(input_ids,attention_mask),dim=1)"
      ],
      "execution_count": null,
      "outputs": [
        {
          "output_type": "execute_result",
          "data": {
            "text/plain": [
              "tensor([[0.4320, 0.2216, 0.3464],\n",
              "        [0.2572, 0.1228, 0.6200],\n",
              "        [0.2391, 0.2476, 0.5134],\n",
              "        [0.1564, 0.0814, 0.7622],\n",
              "        [0.3307, 0.1535, 0.5158],\n",
              "        [0.1832, 0.1547, 0.6620],\n",
              "        [0.2277, 0.0483, 0.7240],\n",
              "        [0.1690, 0.2330, 0.5980],\n",
              "        [0.2582, 0.2375, 0.5043],\n",
              "        [0.2458, 0.1165, 0.6377],\n",
              "        [0.1281, 0.3424, 0.5295],\n",
              "        [0.2801, 0.2892, 0.4307],\n",
              "        [0.2545, 0.0815, 0.6640],\n",
              "        [0.1600, 0.1924, 0.6476],\n",
              "        [0.4108, 0.1842, 0.4050],\n",
              "        [0.4739, 0.2116, 0.3145]], device='cuda:0', grad_fn=<SoftmaxBackward>)"
            ]
          },
          "metadata": {
            "tags": []
          },
          "execution_count": 30
        }
      ]
    },
    {
      "cell_type": "code",
      "metadata": {
        "id": "dUR0PW30L69c"
      },
      "source": [
        "EPOCHS = 3\n",
        "optimizer = transformers.AdamW(model.parameters(), lr= 2e-5, correct_bias = False)\n",
        "total_steps = len(train_data_loader) * EPOCHS\n",
        "scheduler = transformers.get_linear_schedule_with_warmup(\n",
        "    optimizer,\n",
        "    num_warmup_steps = 0,\n",
        "    num_training_steps = total_steps\n",
        ")\n",
        "\n",
        "loss_fn = torch.nn.CrossEntropyLoss().to(device)"
      ],
      "execution_count": null,
      "outputs": []
    },
    {
      "cell_type": "code",
      "metadata": {
        "id": "4JTmmzMtMZuG"
      },
      "source": [
        "def train_epoch(\n",
        "    model,\n",
        "    data_loader,\n",
        "    loss_fn,\n",
        "    optimizer,\n",
        "    device,\n",
        "    scheduler,\n",
        "    n_examples):\n",
        "  model = model.train()\n",
        "\n",
        "  losses = []\n",
        "  correct_predictions = 0\n",
        "\n",
        "  for d in data_loader:\n",
        "    input_ids = d['input_ids'].to(device)\n",
        "    attention_mask = d['attention_mask'].to(device)\n",
        "    targets = d['targets'].to(device)\n",
        "\n",
        "    outputs = model(\n",
        "      input_ids=input_ids,\n",
        "      attention_mask=attention_mask\n",
        "    )\n",
        "\n",
        "    _, preds = torch.max(outputs, dim=1)\n",
        "    loss = loss_fn(outputs, targets)\n",
        "    # print(torch.sum(preds == targets))\n",
        "    correct_predictions += torch.sum(preds == targets)\n",
        "    losses.append(loss.item())\n",
        "\n",
        "    loss.backward()\n",
        "    torch.nn.utils.clip_grad_norm_(model.parameters(), max_norm=1.0)\n",
        "    optimizer.step()\n",
        "    scheduler.step()\n",
        "    optimizer.zero_grad()\n",
        "\n",
        "  return correct_predictions.double() / n_examples, np.mean(losses)"
      ],
      "execution_count": null,
      "outputs": []
    },
    {
      "cell_type": "code",
      "metadata": {
        "id": "XRItSxqONwB8"
      },
      "source": [
        "def eval_model(model, data_loader, loss_fn, device, n_examples):\n",
        "  model = model.eval()\n",
        "\n",
        "  losses = []\n",
        "  correct_predictions = 0\n",
        "\n",
        "  with torch.no_grad():\n",
        "    for d in data_loader:\n",
        "      input_ids = d[\"input_ids\"].to(device)\n",
        "      attention_mask = d[\"attention_mask\"].to(device)\n",
        "      targets = d[\"targets\"].to(device)\n",
        "\n",
        "      outputs = model(\n",
        "        input_ids=input_ids,\n",
        "        attention_mask=attention_mask\n",
        "      )\n",
        "      _, preds = torch.max(outputs, dim=1)\n",
        "      # print(torch.max(outputs, dim=1))\n",
        "\n",
        "      loss = loss_fn(outputs, targets)\n",
        "\n",
        "      # correct_predictions += int(torch.sum(preds == targets))\n",
        "      correct_predictions += torch.sum(preds == targets)\n",
        "      #print(correct_predictions)\n",
        "      losses.append(loss.item())\n",
        "  # correct_predictions = correct_predictions / BATCH_SIZE\n",
        "  return correct_predictions.double() / n_examples, np.mean(losses)\n",
        "  # return correct_predictions.double() / n_examples, np.mean(losses)\n"
      ],
      "execution_count": null,
      "outputs": []
    },
    {
      "cell_type": "code",
      "metadata": {
        "colab": {
          "base_uri": "https://localhost:8080/"
        },
        "id": "TgKeWA6bjVcj",
        "outputId": "7366c8cc-6bb7-4b19-e814-463b54da322b"
      },
      "source": [
        "wandb.watch(model,log='gradients')"
      ],
      "execution_count": null,
      "outputs": [
        {
          "output_type": "execute_result",
          "data": {
            "text/plain": [
              "[<wandb.wandb_torch.TorchGraph at 0x7fc460036278>]"
            ]
          },
          "metadata": {
            "tags": []
          },
          "execution_count": 34
        }
      ]
    },
    {
      "cell_type": "code",
      "metadata": {
        "colab": {
          "base_uri": "https://localhost:8080/"
        },
        "id": "xTho3XcqNzOZ",
        "outputId": "ba0b4787-84f6-4701-8069-bb00b40cd561"
      },
      "source": [
        "%%time\n",
        "\n",
        "history = defaultdict(list)\n",
        "best_accuracy = 0\n",
        "\n",
        "for epoch in range(EPOCHS):\n",
        "\n",
        "  print(f'Epoch {epoch + 1}/{EPOCHS}')\n",
        "  print('-' * 10)\n",
        "\n",
        "  train_acc, train_loss = train_epoch(\n",
        "    model,\n",
        "    train_data_loader,    \n",
        "    loss_fn, \n",
        "    optimizer, \n",
        "    device, \n",
        "    scheduler, \n",
        "    len(df_train)\n",
        "  )\n",
        "\n",
        "  print(f'Train loss {train_loss} accuracy {train_acc}')\n",
        "\n",
        "  val_acc, val_loss = eval_model(\n",
        "    model,\n",
        "    val_data_loader,\n",
        "    loss_fn, \n",
        "    device, \n",
        "    len(df_val)\n",
        "  )\n",
        "  wandb.log({\"Val loss\": val_loss})\n",
        "  wandb.log({\"Val accu\": val_acc})\n",
        "\n",
        "  print(f'Val   loss {val_loss} accuracy {val_acc}')\n",
        "  print()\n",
        "  wandb.log({\"Train accu\": train_acc})\n",
        "  wandb.log({\"Train loss\": train_loss})\n",
        "  history['train_acc'].append(train_acc)\n",
        "  history['train_loss'].append(train_loss)\n",
        "  history['val_acc'].append(val_acc)\n",
        "  history['val_loss'].append(val_loss)\n",
        "  \n",
        "  if val_acc > best_accuracy:\n",
        "    torch.save(model.state_dict(), 'best_model_state.bin')\n",
        "    best_accuracy = val_acc"
      ],
      "execution_count": null,
      "outputs": [
        {
          "output_type": "stream",
          "text": [
            "Epoch 1/3\n",
            "----------\n"
          ],
          "name": "stdout"
        }
      ]
    },
    {
      "cell_type": "code",
      "metadata": {
        "id": "fIaekpKNXhMT"
      },
      "source": [
        "plt.plot(history['train_acc'], label='train accuracy')\n",
        "plt.plot(history['val_acc'], label='validation accuracy')\n",
        "\n",
        "plt.title('Training history')\n",
        "plt.ylabel('Accuracy')\n",
        "plt.xlabel('Epoch')\n",
        "plt.legend()\n",
        "plt.ylim([0, 1]);\n"
      ],
      "execution_count": null,
      "outputs": []
    },
    {
      "cell_type": "code",
      "metadata": {
        "id": "xHuh1prbXohs"
      },
      "source": [
        "test_acc, _ = eval_model(\n",
        "  model,\n",
        "  test_data_loader,\n",
        "  loss_fn,\n",
        "  device,\n",
        "  len(df_test)\n",
        ")\n",
        "test_acc.item()\n"
      ],
      "execution_count": null,
      "outputs": []
    },
    {
      "cell_type": "code",
      "metadata": {
        "id": "KcUJjV7AR7SR"
      },
      "source": [
        "model.load_state_dict(torch.load('/content/drive/MyDrive/Colab Notebooks/0.NLP_Twitter_&_Complaints/data/best_model_state.bin'))\n",
        "model = model.to(device)"
      ],
      "execution_count": null,
      "outputs": []
    },
    {
      "cell_type": "code",
      "metadata": {
        "id": "Qp0bmmFNXtSD"
      },
      "source": [
        "def get_predictions(model, data_loader):\n",
        "  model = model.eval()\n",
        "  \n",
        "  review_texts = []\n",
        "  predictions = []\n",
        "  prediction_probs = []\n",
        "  real_values = []\n",
        "\n",
        "  with torch.no_grad():\n",
        "    for d in data_loader:\n",
        "\n",
        "      texts = d[\"text\"]\n",
        "      input_ids = d[\"input_ids\"].to(device)\n",
        "      attention_mask = d[\"attention_mask\"].to(device)\n",
        "      targets = d[\"targets\"].to(device)\n",
        "\n",
        "      outputs = model(\n",
        "        input_ids=input_ids,\n",
        "        attention_mask=attention_mask\n",
        "      )\n",
        "      _, preds = torch.max(outputs, dim=1)\n",
        "\n",
        "      probs = F.softmax(outputs, dim=1)\n",
        "\n",
        "      review_texts.extend(texts)\n",
        "      predictions.extend(preds)\n",
        "      prediction_probs.extend(probs)\n",
        "      real_values.extend(targets)\n",
        "\n",
        "  predictions = torch.stack(predictions).cpu()\n",
        "  prediction_probs = torch.stack(prediction_probs).cpu()\n",
        "  real_values = torch.stack(real_values).cpu()\n",
        "  return review_texts, predictions, prediction_probs, real_values\n"
      ],
      "execution_count": null,
      "outputs": []
    },
    {
      "cell_type": "code",
      "metadata": {
        "id": "5D3r1yZ5XvRw"
      },
      "source": [
        "y_review_texts, y_pred, y_pred_probs, y_test = get_predictions(\n",
        "  model,\n",
        "  test_data_loader\n",
        ")\n",
        "print(classification_report(y_test, y_pred, target_names=['Engineering','Medical','Arts'\n",
        "]))\n"
      ],
      "execution_count": null,
      "outputs": []
    },
    {
      "cell_type": "code",
      "metadata": {
        "id": "ErDl3kFKX2ak"
      },
      "source": [
        "class_names= ['Engineering','Medical','Arts']\n",
        "def show_confusion_matrix(confusion_matrix):\n",
        "  hmap = sns.heatmap(confusion_matrix, annot=True, fmt=\"d\", cmap=\"Blues\")\n",
        "  hmap.yaxis.set_ticklabels(hmap.yaxis.get_ticklabels(), rotation=0, ha='right')\n",
        "  hmap.xaxis.set_ticklabels(hmap.xaxis.get_ticklabels(), rotation=30, ha='right')\n",
        "  plt.ylabel('True Classification')\n",
        "  plt.xlabel('Predicted Classification');\n",
        "\n",
        "cm = confusion_matrix(y_test, y_pred)\n",
        "df_cm = pd.DataFrame(cm, index=class_names, columns=class_names)\n",
        "show_confusion_matrix(df_cm)"
      ],
      "execution_count": null,
      "outputs": []
    },
    {
      "cell_type": "code",
      "metadata": {
        "id": "QJw-Tqv1B172"
      },
      "source": [
        "for idx in range(len(y_review_texts)):\n",
        "  review_text = y_review_texts[idx]\n",
        "  true_sentiment = y_test[idx]\n",
        "  pred_df = pd.DataFrame({\n",
        "    'class_names': class_names,\n",
        "    'values': y_pred_probs[idx]\n",
        "  })\n",
        "  print(\"\\n\".join(wrap(review_text)))\n",
        "  print()\n",
        "  print(f'True Prediction: {class_names[true_sentiment]}')\n",
        "  sns.barplot(x='values', y='class_names', data=pred_df, orient='h')\n",
        "  plt.title(class_names[true_sentiment],wrap(review_text)[0])\n",
        "  plt.ylabel('Classification')\n",
        "  plt.xlabel('Probability')\n",
        "  plt.xlim([0, 1]);\n",
        "  plt.show()"
      ],
      "execution_count": null,
      "outputs": []
    },
    {
      "cell_type": "code",
      "metadata": {
        "id": "A6vwjXoDB-x3"
      },
      "source": [
        "review_text = \"I love completing my todos! Best app ever!!!\"\n",
        "encoded_review = tokenizer.encode_plus(\n",
        "  review_text,\n",
        "  max_length=MAX_LEN,\n",
        "  add_special_tokens=True,\n",
        "  return_token_type_ids=False,\n",
        "  pad_to_max_length=True,\n",
        "  return_attention_mask=True,\n",
        "  return_tensors='pt',\n",
        ")\n",
        "input_ids = encoded_review['input_ids'].to(device)\n",
        "attention_mask = encoded_review['attention_mask'].to(device)\n",
        "\n",
        "output = model(input_ids, attention_mask)\n",
        "_, prediction = torch.max(output, dim=1)\n",
        "\n",
        "print(f'text: {review_text}')\n",
        "print(f'class  : {class_names[prediction]}')\n"
      ],
      "execution_count": null,
      "outputs": []
    },
    {
      "cell_type": "markdown",
      "metadata": {
        "id": "lsJ5eBlsZDbm"
      },
      "source": [
        "# Profile Classificaiton"
      ]
    },
    {
      "cell_type": "code",
      "metadata": {
        "id": "twuv1PfyaW_T"
      },
      "source": [
        "# @@\n",
        "df_profile = df.groupby('user_name')['text'].apply(' '.join).reset_index()\n",
        "df_profile"
      ],
      "execution_count": null,
      "outputs": []
    },
    {
      "cell_type": "code",
      "metadata": {
        "id": "1pz43QjxcraC"
      },
      "source": [
        "b = df[['user_name','school_handle']]\n",
        "b= b.drop_duplicates().reset_index(drop=True)"
      ],
      "execution_count": null,
      "outputs": []
    },
    {
      "cell_type": "code",
      "metadata": {
        "id": "wmVwNRwwa-Mm"
      },
      "source": [
        "df_profile = df_profile.merge(b,how='left',on=['user_name'])\n"
      ],
      "execution_count": null,
      "outputs": []
    },
    {
      "cell_type": "code",
      "metadata": {
        "id": "I1xsHNJcbUt9"
      },
      "source": [
        "from sklearn.preprocessing import LabelEncoder\n",
        "le = LabelEncoder()\n",
        "df_profile['labels']= le.fit_transform(df_profile['school_handle'])\n",
        "df_profile = df_profile.sample(len(df_profile),random_state=47)\n",
        "df_profile.reset_index(drop=True,inplace=True)"
      ],
      "execution_count": null,
      "outputs": []
    },
    {
      "cell_type": "code",
      "metadata": {
        "id": "G0R_Fwiae4CK"
      },
      "source": [
        "df_profile"
      ],
      "execution_count": null,
      "outputs": []
    },
    {
      "cell_type": "code",
      "metadata": {
        "id": "2T535zgsoOPy"
      },
      "source": [
        "news_groups = ['Eng','Med','Art']"
      ],
      "execution_count": null,
      "outputs": []
    },
    {
      "cell_type": "code",
      "metadata": {
        "id": "2Vqz5HrtZFVb"
      },
      "source": [
        "import sklearn\n",
        "X = df_profile.text\n",
        "y= df_profile.labels\n",
        "X_train,X_test,y_train,y_test= train_test_split(X,y,stratify=y,test_size=0.3, \n",
        ")\n",
        "print('number of training samples:', len(X_train))\n",
        "print('number of test samples:', len(X_test))\n",
        "train_df = pd.DataFrame({'doc':X_train,\n",
        "                         'labels':y_train})\n",
        "test_df = pd.DataFrame({'doc':X_test,\n",
        "                         'labels':y_test})\n",
        "train_df.reset_index(drop=True,inplace=True)\n",
        "test_df.reset_index(drop=True,inplace=True)"
      ],
      "execution_count": null,
      "outputs": []
    },
    {
      "cell_type": "code",
      "metadata": {
        "id": "Or_K4fkFdeZi"
      },
      "source": [
        "!pip -qq install transformers==3.3.1\n",
        "!pip -qq install pkbar\n",
        "import os\n",
        "import re\n",
        "import collections\n",
        "import timeit\n",
        "import torch\n",
        "import pandas as pd\n",
        "import pkbar\n",
        "import numpy\n",
        "# import numpy.testing.decorators\n",
        "from sklearn.model_selection import train_test_split\n",
        "from torch.utils.data import Dataset,DataLoader\n",
        "import torch.nn as nn\n",
        "from sklearn.metrics import  f1_score,classification_report\n"
      ],
      "execution_count": null,
      "outputs": []
    },
    {
      "cell_type": "code",
      "metadata": {
        "id": "Yk3z2IK0dkC8"
      },
      "source": [
        "# Uses GPU if available\n",
        "from torch import cuda\n",
        "device = 'cuda' if cuda.is_available() else 'cpu'\n",
        "# device = torch.device (\"cuda:0\" if torch.cuda.is_available() else \"cpu\")\n",
        "device"
      ],
      "execution_count": null,
      "outputs": []
    },
    {
      "cell_type": "code",
      "metadata": {
        "id": "I_sfKkF7emQk"
      },
      "source": [
        "# Distil-bert model parameters\n",
        "from transformers import DistilBertConfig,DistilBertTokenizer,DistilBertModel\n",
        "MAX_LEN = 512\n",
        "TRAIN_BATCH_SIZE = 16\n",
        "VALID_BATCH_SIZE = 8\n",
        "EPOCHS = 8\n",
        "LEARNING_RATE = 1e-05\n",
        "num_classes = len(df_profile.labels.unique())\n",
        "num_of_batches_per_epoch = len(X_train)//TRAIN_BATCH_SIZE\n",
        "tokenizer = DistilBertTokenizer.from_pretrained('distilbert-base-uncased')"
      ],
      "execution_count": null,
      "outputs": []
    },
    {
      "cell_type": "code",
      "metadata": {
        "id": "ehtq0e_9b0av"
      },
      "source": [
        "class BertDataFormat(Dataset):\n",
        "    def __init__(self, dataframe, tokenizer, max_len):\n",
        "        self.len = len(dataframe)\n",
        "        self.data = dataframe\n",
        "        self.tokenizer = tokenizer\n",
        "        self.max_len = max_len\n",
        "        \n",
        "    def __getitem__(self, index):\n",
        "        cur_doc = str(self.data.doc[index])\n",
        "        cur_doc = \" \".join(cur_doc.split())\n",
        "        inputs = self.tokenizer.encode_plus(\n",
        "            cur_doc,\n",
        "            None,\n",
        "            add_special_tokens=True,\n",
        "            max_length=self.max_len,\n",
        "            padding='max_length',\n",
        "            return_token_type_ids=True,\n",
        "            truncation=True\n",
        "        )\n",
        "        ids = inputs['input_ids']\n",
        "        mask = inputs['attention_mask']\n",
        "\n",
        "        return {\n",
        "            'ids': torch.tensor(ids, dtype=torch.long),\n",
        "            'mask': torch.tensor(mask, dtype=torch.long),\n",
        "            'targets': torch.tensor(self.data.labels[index], dtype=torch.long)\n",
        "        } \n",
        "    \n",
        "    def __len__(self):\n",
        "        return self.len\n",
        "\n",
        "training_set = BertDataFormat(train_df, tokenizer, MAX_LEN)\n",
        "testing_set = BertDataFormat(test_df, tokenizer, MAX_LEN)"
      ],
      "execution_count": null,
      "outputs": []
    },
    {
      "cell_type": "code",
      "metadata": {
        "id": "JwdMVLK4bIJJ"
      },
      "source": [
        "train_params = {'batch_size': TRAIN_BATCH_SIZE,\n",
        "                'shuffle': True,\n",
        "                'num_workers': 0\n",
        "                }\n",
        "\n",
        "test_params = {'batch_size': VALID_BATCH_SIZE,\n",
        "                'shuffle': False,\n",
        "                'num_workers': 0\n",
        "                }\n",
        "\n",
        "training_loader = DataLoader(training_set, **train_params)\n",
        "testing_loader = DataLoader(testing_set, **test_params)"
      ],
      "execution_count": null,
      "outputs": []
    },
    {
      "cell_type": "code",
      "metadata": {
        "id": "UIYEeAbdS7eD"
      },
      "source": [
        "# !pip install transformers"
      ],
      "execution_count": null,
      "outputs": []
    },
    {
      "cell_type": "code",
      "metadata": {
        "id": "9ouVRC9dKjKj"
      },
      "source": [
        "# Creating the customized model, by adding a drop out and a dense layer on top of distil bert to get the final output for the model. \n",
        "\n",
        "class DistillBERTClass(torch.nn.Module):\n",
        "    def __init__(self,num_classes):\n",
        "        super(DistillBERTClass, self).__init__()\n",
        "        self.l1 = DistilBertModel.from_pretrained(\"distilbert-base-uncased\")\n",
        "        self.classifier = torch.nn.Linear(768, num_classes)\n",
        "\n",
        "    def forward(self, input_ids, attention_mask):\n",
        "        output_1 = self.l1(input_ids=input_ids, attention_mask=attention_mask)\n",
        "        hidden_state = output_1[0]\n",
        "        bert_last = hidden_state[:, 0]\n",
        "        output = self.classifier(bert_last)\n",
        "        return output"
      ],
      "execution_count": null,
      "outputs": []
    },
    {
      "cell_type": "code",
      "metadata": {
        "id": "HD5PvdCCKkR5"
      },
      "source": [
        "# Copy model to device.\n",
        "baseline_model = DistillBERTClass(num_classes)\n",
        "baseline_model.to(device)"
      ],
      "execution_count": null,
      "outputs": []
    },
    {
      "cell_type": "code",
      "metadata": {
        "id": "eA6Ig7o9KniL"
      },
      "source": [
        "# Create the loss function and optimizer\n",
        "loss_function = torch.nn.CrossEntropyLoss()\n",
        "optimizer = torch.optim.Adam(params =  baseline_model.parameters(), lr=LEARNING_RATE)"
      ],
      "execution_count": null,
      "outputs": []
    },
    {
      "cell_type": "code",
      "metadata": {
        "id": "SwxD_1FVa37D"
      },
      "source": [
        "# Calcuate accuracy of the model\n",
        "def acc_cal(big_idx, targets):\n",
        "    n_correct = (big_idx==targets).sum().item()\n",
        "    return n_correct"
      ],
      "execution_count": null,
      "outputs": []
    },
    {
      "cell_type": "code",
      "metadata": {
        "id": "81NLQbVAa45Q"
      },
      "source": [
        "# train model\n",
        "def train(epoch,model):\n",
        "    tr_loss = 0\n",
        "    n_correct = 0\n",
        "    nb_tr_steps = 0\n",
        "    nb_tr_examples = 0\n",
        "    model.train()\n",
        "\n",
        "    # progress bar\n",
        "    train_per_epoch = num_of_batches_per_epoch\n",
        "    kbar = pkbar.Kbar(target=train_per_epoch, epoch=epoch, \n",
        "                      num_epochs=EPOCHS, width=8, \n",
        "                      always_stateful=False)\n",
        "\n",
        "    for idx,data in enumerate(training_loader, 0):\n",
        "\n",
        "        # copy tensors to gpu\n",
        "        ids = data['ids'].to(device, dtype = torch.long)\n",
        "        mask = data['mask'].to(device, dtype = torch.long)\n",
        "        targets = data['targets'].to(device, dtype = torch.long)\n",
        "\n",
        "        # get output and calculate loss.\n",
        "        outputs = model(ids, mask)\n",
        "        loss = loss_function(outputs, targets)\n",
        "        tr_loss += loss.item()\n",
        "        big_val, big_idx = torch.max(outputs.data, dim=1)\n",
        "        n_correct += acc_cal(big_idx, targets)\n",
        "\n",
        "        nb_tr_steps += 1\n",
        "        nb_tr_examples+=targets.size(0)\n",
        "      \n",
        "        optimizer.zero_grad()\n",
        "        loss.backward()\n",
        "        # # When using GPU\n",
        "        optimizer.step()\n",
        "        kbar.update(idx, values=[(\"train_loss\", tr_loss/(idx+1))])\n",
        "\n",
        "    epoch_loss = tr_loss/nb_tr_steps\n",
        "    epoch_accu = (n_correct*100)/nb_tr_examples\n",
        "    history['train_acc'].append(epoch_accu)\n",
        "    history['train_loss'].append(epoch_loss)\n",
        "\n",
        "    print(f\"Training Loss Epoch: {epoch_loss}\")\n",
        "    print(f\"Training Accuracy Epoch: {epoch_accu}\")\n",
        "\n",
        "    return"
      ],
      "execution_count": null,
      "outputs": []
    },
    {
      "cell_type": "code",
      "metadata": {
        "id": "pL_YS423y0Q9"
      },
      "source": [
        "# function to predict output.\n",
        "def valid(model, testing_loader):\n",
        "    predicted_labels = []\n",
        "    true_labels = []\n",
        "    nb_tr_steps = 0\n",
        "    tr_loss =0\n",
        "    nb_tr_examples=0\n",
        "    model.eval()\n",
        "    n_correct = 0; n_wrong = 0; total = 0\n",
        "    with torch.no_grad():\n",
        "        for _, data in enumerate(testing_loader, 0):\n",
        "\n",
        "            # copy tensors to gpu.\n",
        "            ids = data['ids'].to(device, dtype = torch.long)\n",
        "            mask = data['mask'].to(device, dtype = torch.long)\n",
        "            targets = data['targets'].to(device, dtype = torch.long)\n",
        "            outputs = model(ids, mask).squeeze()\n",
        "\n",
        "            # calculate loss\n",
        "            loss = loss_function(outputs, targets)\n",
        "            tr_loss += loss.item()\n",
        "            big_val, big_idx = torch.max(outputs.data, dim=1)\n",
        "            predicted_labels += big_idx\n",
        "            true_labels += targets\n",
        "            \n",
        "            n_correct += acc_cal(big_idx, targets)\n",
        "\n",
        "            nb_tr_steps += 1\n",
        "            nb_tr_examples+=targets.size(0)\n",
        "\n",
        "    epoch_loss = tr_loss/nb_tr_steps\n",
        "    epoch_accu = (n_correct*100)/nb_tr_examples\n",
        "    history['val_acc'].append(epoch_loss)\n",
        "    history['val_loss'].append(epoch_accu)    \n",
        "    return epoch_accu,epoch_loss,predicted_labels,true_labels"
      ],
      "execution_count": null,
      "outputs": []
    },
    {
      "cell_type": "code",
      "metadata": {
        "id": "zM34C6rza-RA"
      },
      "source": [
        "for epoch in range(EPOCHS):\n",
        "    history = defaultdict(list)\n",
        "\n",
        "    train(epoch,baseline_model)\n",
        "    print('\\n')"
      ],
      "execution_count": null,
      "outputs": []
    },
    {
      "cell_type": "code",
      "metadata": {
        "id": "MLa6GUfQqZJF"
      },
      "source": [
        "history = defaultdict(list)\n"
      ],
      "execution_count": null,
      "outputs": []
    },
    {
      "cell_type": "code",
      "metadata": {
        "id": "Ov04FC0TojRs"
      },
      "source": [
        "plt.plot(history['train_acc'], label='train accuracy')\n",
        "plt.plot(history['val_acc'], label='validation accuracy')\n",
        "\n",
        "plt.title('Training history')\n",
        "plt.ylabel('Accuracy')\n",
        "plt.xlabel('Epoch')\n",
        "plt.legend()\n",
        "plt.ylim([0, 1]);\n"
      ],
      "execution_count": null,
      "outputs": []
    },
    {
      "cell_type": "code",
      "metadata": {
        "id": "truOb3XpXXTu"
      },
      "source": [
        "acc,loss,predicted_labels,true_labels = valid(baseline_model, testing_loader)\n",
        "print(\"test accuracy on baseline distilbert model =\",round(acc,2))"
      ],
      "execution_count": null,
      "outputs": []
    },
    {
      "cell_type": "code",
      "metadata": {
        "id": "Ra91sNqA6WK0"
      },
      "source": [
        "predicted_labels = [i.item() for i in predicted_labels]\n",
        "true_labels = [i.item() for i in true_labels]\n",
        "baseline_f1 = f1_score(true_labels,predicted_labels,average='macro')\n",
        "print(\"F1 score on baseline model = \",baseline_f1)"
      ],
      "execution_count": null,
      "outputs": []
    },
    {
      "cell_type": "code",
      "metadata": {
        "id": "uncLQ4W-__Yh"
      },
      "source": [
        "print(classification_report(true_labels,predicted_labels,target_names=news_groups))"
      ],
      "execution_count": null,
      "outputs": []
    },
    {
      "cell_type": "code",
      "metadata": {
        "id": "1l8iVl4e626j"
      },
      "source": [
        ""
      ],
      "execution_count": null,
      "outputs": []
    },
    {
      "cell_type": "code",
      "metadata": {
        "id": "YN0RR29rtiUQ"
      },
      "source": [
        "# @@\n",
        "\n",
        "# Distil-bert model parameters\n",
        "from transformers import DistilBertConfig,DistilBertTokenizer,DistilBertModel\n",
        "MAX_LEN = 512\n",
        "TRAIN_BATCH_SIZE = 32\n",
        "VALID_BATCH_SIZE = 8\n",
        "EPOCHS = 8\n",
        "LEARNING_RATE = 1e-05\n",
        "# num_classes = len(df_profile.labels.unique())\n",
        "num_of_batches_per_epoch = len(X_train)//TRAIN_BATCH_SIZE\n",
        "tokenizer = DistilBertTokenizer.from_pretrained('distilbert-base-uncased')"
      ],
      "execution_count": null,
      "outputs": []
    },
    {
      "cell_type": "code",
      "metadata": {
        "id": "uzYChNd73MvQ"
      },
      "source": [
        "class DocBERTClass(torch.nn.Module):\n",
        "    def __init__(self):\n",
        "        super(DocBERTClass, self).__init__()\n",
        "        self.l1 = DistilBertModel.from_pretrained(\"distilbert-base-uncased\")\n",
        "        self.dimension = 64\n",
        "        #self.lstm = nn.LSTM(input_size=768, hidden_size=dimension,num_layers=1,\n",
        "        #                    bidirectional=True)\n",
        "        hidden_dim = 64 \n",
        "        embed_dim = 768\n",
        "\n",
        "        self.lstm  = nn.LSTM(embed_dim, hidden_dim, batch_first=True)\n",
        "        self.pre_classifier = torch.nn.Linear(64, 64)\n",
        "        self.dropout = torch.nn.Dropout(0.3)\n",
        "        self.classifier = torch.nn.Linear(64, 20)\n",
        "\n",
        "    def forward(self, input_ids, attention_mask):\n",
        "        output_1 = self.l1(input_ids=input_ids, attention_mask=attention_mask)\n",
        "        hidden_state = output_1[0]\n",
        "        bert_final = hidden_state[:, 0]\n",
        "        bert_final = bert_final.squeeze().unsqueeze(dim=0)\n",
        "        lstm1, (h, c) = self.lstm(bert_final)\n",
        "        #print(lstm1.shape)\n",
        "        lstm1 = lstm1.view((lstm1.shape)[1],64)\n",
        "        linear1 = self.pre_classifier(lstm1)\n",
        "        linear1 = torch.nn.ReLU()(linear1)\n",
        "        linear1 = self.dropout(linear1)\n",
        "        #print(linear1.shape)\n",
        "        output = self.classifier(linear1)\n",
        "        #print(output.shape)\n",
        "        return output"
      ],
      "execution_count": null,
      "outputs": []
    },
    {
      "cell_type": "code",
      "metadata": {
        "id": "8ZRk8i9RW_Gc"
      },
      "source": [
        "# Copy model to device.\n",
        "docbert_model = DocBERTClass()\n",
        "docbert_model.to(device)"
      ],
      "execution_count": null,
      "outputs": []
    },
    {
      "cell_type": "code",
      "metadata": {
        "id": "-5hCUyr2XTfz"
      },
      "source": [
        "# Create the loss function and optimizer\n",
        "loss_function = torch.nn.CrossEntropyLoss()\n",
        "optimizer = torch.optim.Adam(params =  docbert_model.parameters(), lr=LEARNING_RATE)"
      ],
      "execution_count": null,
      "outputs": []
    },
    {
      "cell_type": "code",
      "metadata": {
        "id": "zT_mOCD-W_Em"
      },
      "source": [
        "print('DocBert Model')\n",
        "EPOCHS = 8\n",
        "for epoch in range(EPOCHS):\n",
        "    train(epoch,docbert_model)\n",
        "    print('\\n')"
      ],
      "execution_count": null,
      "outputs": []
    },
    {
      "cell_type": "code",
      "metadata": {
        "id": "ggFvcUVcZw0f"
      },
      "source": [
        "acc,loss,predicted_labels,true_labels = valid(docbert_model, testing_loader)\n",
        "print(\"test accuracy on DocBert model =\",acc, '%')"
      ],
      "execution_count": null,
      "outputs": []
    },
    {
      "cell_type": "code",
      "metadata": {
        "id": "GGD7zY2uZ5_4"
      },
      "source": [
        "predicted_labels = [i.item() for i in predicted_labels]\n",
        "true_labels = [i.item() for i in true_labels]\n",
        "docbert_f1 = f1_score(true_labels,predicted_labels,average='macro')\n",
        "print(\"F1 score on docbert model = \",docbert_f1)"
      ],
      "execution_count": null,
      "outputs": []
    },
    {
      "cell_type": "code",
      "metadata": {
        "id": "52DrUB1FZ67u"
      },
      "source": [
        "print(classification_report(true_labels,predicted_labels,target_names=news_groups))"
      ],
      "execution_count": null,
      "outputs": []
    },
    {
      "cell_type": "markdown",
      "metadata": {
        "id": "B5ee-PIf2PVx"
      },
      "source": [
        "## Classic ML"
      ]
    },
    {
      "cell_type": "code",
      "metadata": {
        "id": "x0vge28P2RuZ"
      },
      "source": [
        "# @@@\n",
        "\n",
        "import os\n",
        "import re\n",
        "import pandas as pd\n",
        "from sklearn.model_selection import train_test_split\n",
        "from sklearn.feature_extraction.text import CountVectorizer\n",
        "from sklearn.linear_model import LogisticRegression\n",
        "from sklearn.metrics import confusion_matrix, accuracy_score, classification_report\n",
        "from sklearn.feature_extraction.text import TfidfVectorizer\n",
        "from sklearn.pipeline import make_pipeline\n",
        "from sklearn.metrics import accuracy_score\n",
        "from sklearn.model_selection import GridSearchCV\n",
        "from sklearn.svm import SVC"
      ],
      "execution_count": null,
      "outputs": []
    },
    {
      "cell_type": "code",
      "metadata": {
        "id": "CAj8qbDt2Wl5"
      },
      "source": [
        ""
      ],
      "execution_count": null,
      "outputs": []
    },
    {
      "cell_type": "code",
      "metadata": {
        "id": "OSe_MT8d1b5r"
      },
      "source": [
        "# Setting the vectorizer just like we would set a model\n",
        "\n",
        "cvec = CountVectorizer()\n",
        "\n",
        "# Fitting the vectorizer on our training data\n",
        "\n",
        "cvec.fit(X_train)"
      ],
      "execution_count": null,
      "outputs": []
    },
    {
      "cell_type": "code",
      "metadata": {
        "id": "dzjJlIUE1b5s"
      },
      "source": [
        "# Lets check the length of our data that is in a vectorized state\n",
        "\n",
        "len(cvec.get_feature_names())"
      ],
      "execution_count": null,
      "outputs": []
    },
    {
      "cell_type": "markdown",
      "metadata": {
        "id": "gH29Zys71b5s"
      },
      "source": [
        "One of the features included by CountVectorizer is the in-built tool of stop_words. In NLP, stop words are words which are filtered out usually after processing our data. Though stop_words in this case refers to the most common words in a language (and more often than not, this is the case). there is no single universal list of stop words used by all natural language processing tools, and indeed not all tools even use such a list."
      ]
    },
    {
      "cell_type": "code",
      "metadata": {
        "id": "DlZwvDJr1b5t"
      },
      "source": [
        "# Lets use the stop_words argument to remove words like \"and, the, a\"\n",
        "\n",
        "cvec = CountVectorizer(stop_words='english')\n",
        "\n",
        "# Fit our vectorizer using our train data\n",
        "\n",
        "cvec.fit(X_train)\n",
        "\n",
        "# Transform training data\n",
        "\n",
        "X_train_cvec = cvec.transform(X_train)\n",
        "X_test_cvec = cvec.transform(X_test)"
      ],
      "execution_count": null,
      "outputs": []
    },
    {
      "cell_type": "code",
      "metadata": {
        "id": "uy3KC9Gg1b5t"
      },
      "source": [
        "X_test_cvec = cvec.transform(X_test)"
      ],
      "execution_count": null,
      "outputs": []
    },
    {
      "cell_type": "markdown",
      "metadata": {
        "id": "yGJJ-uMk1b5t"
      },
      "source": [
        "#### Fit a logistic regression model"
      ]
    },
    {
      "cell_type": "code",
      "metadata": {
        "id": "2O6PMfKu1b5t"
      },
      "source": [
        "lr = LogisticRegression(solver='lbfgs', multi_class='ovr',max_iter=1000)\n",
        "lr.fit(X_train_cvec, y_train)\n",
        "print(lr.score(X_train_cvec, y_train))\n",
        "print(lr.score(X_test_cvec, y_test))"
      ],
      "execution_count": null,
      "outputs": []
    },
    {
      "cell_type": "code",
      "metadata": {
        "id": "1TwzObkd1b5u"
      },
      "source": [
        "def docm(y_true, y_pred,labels):\n",
        "    cm = confusion_matrix(y_true, y_pred)\n",
        "    cols = ['p_'+c for c in labels]\n",
        "    df = pd.DataFrame(cm, index=labels, columns=cols)\n",
        "    return df\n",
        "def show_confusion_matrix(confusion_matrix):\n",
        "  hmap = sns.heatmap(confusion_matrix, annot=True, fmt=\"d\", cmap=\"Blues\")\n",
        "  hmap.yaxis.set_ticklabels(hmap.yaxis.get_ticklabels(), rotation=0, ha='right')\n",
        "  hmap.xaxis.set_ticklabels(hmap.xaxis.get_ticklabels(), rotation=30, ha='right')\n",
        "  plt.ylabel('True Classification')\n",
        "  plt.xlabel('Predicted Classification');\n"
      ],
      "execution_count": null,
      "outputs": []
    },
    {
      "cell_type": "code",
      "metadata": {
        "collapsed": true,
        "id": "G_xtgN851b5u"
      },
      "source": [
        "class_names= ['Engineering','Medical','Arts']\n",
        "\n",
        "cm = confusion_matrix(y_test, lr.predict(X_test_cvec))\n",
        "df_cm = pd.DataFrame(cm, index=class_names, columns=class_names)\n",
        "show_confusion_matrix(df_cm)\n",
        "docm(y_test,lr.predict(X_test_cvec),labels=news_groups)\n"
      ],
      "execution_count": null,
      "outputs": []
    },
    {
      "cell_type": "markdown",
      "metadata": {
        "id": "AhB3Etrq1b5u"
      },
      "source": [
        "Classification report of cbow and logistic regression model"
      ]
    },
    {
      "cell_type": "code",
      "metadata": {
        "id": "eraGvRX_1b5v"
      },
      "source": [
        "print(classification_report(y_test,lr.predict(X_test_cvec),target_names=news_groups))"
      ],
      "execution_count": null,
      "outputs": []
    },
    {
      "cell_type": "markdown",
      "metadata": {
        "id": "O-FcLkU21b5v"
      },
      "source": [
        "### Model 2:  tf-idf + logistic regression"
      ]
    },
    {
      "cell_type": "code",
      "metadata": {
        "collapsed": true,
        "id": "bA4Ef-m-1b5x"
      },
      "source": [
        "piped_model_2 = make_pipeline(TfidfVectorizer(stop_words='english',\n",
        "                                      #sublinear_tf=True,\n",
        "                                      max_df=0.3,\n",
        "                                      max_features=4000),\n",
        "                      LogisticRegression())\n",
        "piped_model_2.fit(X_train, y_train)\n",
        "y_pred = piped_model_2.predict(X_test)\n",
        "print(accuracy_score(y_test, y_pred))\n",
        "print(\"Number of features:\", len(piped_model_2.steps[0][1].get_feature_names()))"
      ],
      "execution_count": null,
      "outputs": []
    },
    {
      "cell_type": "markdown",
      "metadata": {
        "id": "H8SeCusb1b5x"
      },
      "source": [
        "Classification report of tf-idf + logistic regression model"
      ]
    },
    {
      "cell_type": "code",
      "metadata": {
        "id": "_U2zFqsS1b5x"
      },
      "source": [
        "print(classification_report(y_test,y_pred,target_names=news_groups))"
      ],
      "execution_count": null,
      "outputs": []
    },
    {
      "cell_type": "markdown",
      "metadata": {
        "id": "Jw-pubPm1b5y"
      },
      "source": [
        "### Model 3: tf-df + SVM"
      ]
    },
    {
      "cell_type": "code",
      "metadata": {
        "id": "ny-0fRqI1b5y"
      },
      "source": [
        "tvec = TfidfVectorizer(stop_words='english',\n",
        "                       max_df=0.5,\n",
        "                       max_features=1000)"
      ],
      "execution_count": null,
      "outputs": []
    },
    {
      "cell_type": "code",
      "metadata": {
        "id": "mNZm2qt41b5y"
      },
      "source": [
        "tvec.fit(X_train)\n",
        "X_train_tvec = tvec.transform(X_train)\n",
        "X_test_tvec = tvec.transform(X_test)"
      ],
      "execution_count": null,
      "outputs": []
    },
    {
      "cell_type": "code",
      "metadata": {
        "id": "yfBvYo4W1b5y"
      },
      "source": [
        "# Parameter tuning\n",
        "param_grid = {'C': [0.1,1, 10, 100], 'gamma': [1,0.1,0.01,0.001],'kernel': ['rbf', 'poly', 'linear']}\n",
        "grid = GridSearchCV(SVC(),param_grid)\n",
        "grid.fit(X_train_tvec,y_train)\n",
        "print(grid.best_estimator_)"
      ],
      "execution_count": null,
      "outputs": []
    },
    {
      "cell_type": "code",
      "metadata": {
        "id": "agcm_mEf1b5z"
      },
      "source": [
        "# Best fit\n",
        "model = SVC(gamma=0.01,kernel='rbf',C=0.1)\n",
        "model.fit(X_train_tvec, y_train)\n",
        "y_pred = model.predict(X_test_tvec)\n",
        "score = accuracy_score(y_test, y_pred)\n",
        "score"
      ],
      "execution_count": null,
      "outputs": []
    },
    {
      "cell_type": "code",
      "metadata": {
        "collapsed": true,
        "id": "U_RgpyG51b5z"
      },
      "source": [
        "cm = confusion_matrix(y_test, y_pred)\n",
        "df_cm = pd.DataFrame(cm, index=class_names, columns=class_names)\n",
        "show_confusion_matrix(df_cm)\n",
        "cm = docm(y_test, y_pred, news_groups)\n",
        "cm"
      ],
      "execution_count": null,
      "outputs": []
    },
    {
      "cell_type": "markdown",
      "metadata": {
        "id": "O3C5CAe71b5z"
      },
      "source": [
        "Classification report of tf-idf + SVM model"
      ]
    },
    {
      "cell_type": "code",
      "metadata": {
        "id": "jpSaCM6g1b50"
      },
      "source": [
        "print(classification_report(y_test,y_pred,target_names=news_groups))"
      ],
      "execution_count": null,
      "outputs": []
    },
    {
      "cell_type": "markdown",
      "metadata": {
        "id": "MOpUymGAEHst"
      },
      "source": [
        "References:\n",
        "\n",
        "Get S done with pytorch \n"
      ]
    }
  ]
}